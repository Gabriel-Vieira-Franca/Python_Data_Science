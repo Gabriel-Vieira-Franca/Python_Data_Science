{
 "cells": [
  {
   "cell_type": "code",
   "execution_count": 3,
   "id": "88fe6351-7c40-4938-afe2-725f09802713",
   "metadata": {},
   "outputs": [],
   "source": [
    "#1 - importar as bibliotecas\n",
    "#pandas -> vou transformar a tabela\n",
    "import pandas as pd\n",
    "#matplotlib -> para plotar o gráfico\n",
    "import matplotlib.pyplot as plt"
   ]
  },
  {
   "cell_type": "code",
   "execution_count": 7,
   "id": "1426d337-10ed-46ab-a61e-fa452f8db061",
   "metadata": {},
   "outputs": [
    {
     "data": {
      "text/html": [
       "<div>\n",
       "<style scoped>\n",
       "    .dataframe tbody tr th:only-of-type {\n",
       "        vertical-align: middle;\n",
       "    }\n",
       "\n",
       "    .dataframe tbody tr th {\n",
       "        vertical-align: top;\n",
       "    }\n",
       "\n",
       "    .dataframe thead th {\n",
       "        text-align: right;\n",
       "    }\n",
       "</style>\n",
       "<table border=\"1\" class=\"dataframe\">\n",
       "  <thead>\n",
       "    <tr style=\"text-align: right;\">\n",
       "      <th></th>\n",
       "      <th>region</th>\n",
       "      <th>category</th>\n",
       "      <th>parameter</th>\n",
       "      <th>mode</th>\n",
       "      <th>powertrain</th>\n",
       "      <th>year</th>\n",
       "      <th>unit</th>\n",
       "      <th>value</th>\n",
       "    </tr>\n",
       "  </thead>\n",
       "  <tbody>\n",
       "    <tr>\n",
       "      <th>0</th>\n",
       "      <td>Australia</td>\n",
       "      <td>Historical</td>\n",
       "      <td>EV stock share</td>\n",
       "      <td>Cars</td>\n",
       "      <td>EV</td>\n",
       "      <td>2011</td>\n",
       "      <td>percent</td>\n",
       "      <td>0.00039</td>\n",
       "    </tr>\n",
       "    <tr>\n",
       "      <th>1</th>\n",
       "      <td>Australia</td>\n",
       "      <td>Historical</td>\n",
       "      <td>EV sales share</td>\n",
       "      <td>Cars</td>\n",
       "      <td>EV</td>\n",
       "      <td>2011</td>\n",
       "      <td>percent</td>\n",
       "      <td>0.00650</td>\n",
       "    </tr>\n",
       "    <tr>\n",
       "      <th>2</th>\n",
       "      <td>Australia</td>\n",
       "      <td>Historical</td>\n",
       "      <td>EV sales</td>\n",
       "      <td>Cars</td>\n",
       "      <td>BEV</td>\n",
       "      <td>2011</td>\n",
       "      <td>Vehicles</td>\n",
       "      <td>49.00000</td>\n",
       "    </tr>\n",
       "    <tr>\n",
       "      <th>3</th>\n",
       "      <td>Australia</td>\n",
       "      <td>Historical</td>\n",
       "      <td>EV stock</td>\n",
       "      <td>Cars</td>\n",
       "      <td>BEV</td>\n",
       "      <td>2011</td>\n",
       "      <td>Vehicles</td>\n",
       "      <td>49.00000</td>\n",
       "    </tr>\n",
       "    <tr>\n",
       "      <th>4</th>\n",
       "      <td>Australia</td>\n",
       "      <td>Historical</td>\n",
       "      <td>EV stock</td>\n",
       "      <td>Cars</td>\n",
       "      <td>BEV</td>\n",
       "      <td>2012</td>\n",
       "      <td>Vehicles</td>\n",
       "      <td>220.00000</td>\n",
       "    </tr>\n",
       "  </tbody>\n",
       "</table>\n",
       "</div>"
      ],
      "text/plain": [
       "      region    category       parameter  mode powertrain  year      unit  \\\n",
       "0  Australia  Historical  EV stock share  Cars         EV  2011   percent   \n",
       "1  Australia  Historical  EV sales share  Cars         EV  2011   percent   \n",
       "2  Australia  Historical        EV sales  Cars        BEV  2011  Vehicles   \n",
       "3  Australia  Historical        EV stock  Cars        BEV  2011  Vehicles   \n",
       "4  Australia  Historical        EV stock  Cars        BEV  2012  Vehicles   \n",
       "\n",
       "       value  \n",
       "0    0.00039  \n",
       "1    0.00650  \n",
       "2   49.00000  \n",
       "3   49.00000  \n",
       "4  220.00000  "
      ]
     },
     "execution_count": 7,
     "metadata": {},
     "output_type": "execute_result"
    }
   ],
   "source": [
    "#2 -  Ler o arquivo .csv\n",
    "df = pd.read_csv('IEA Global EV Data 2024.csv')\n",
    "df.head()"
   ]
  },
  {
   "cell_type": "code",
   "execution_count": 13,
   "id": "b498c934-d6e2-46e1-99bc-e6b25a359ace",
   "metadata": {},
   "outputs": [
    {
     "name": "stdout",
     "output_type": "stream",
     "text": [
      "<class 'pandas.core.frame.DataFrame'>\n",
      "RangeIndex: 12654 entries, 0 to 12653\n",
      "Data columns (total 8 columns):\n",
      " #   Column      Non-Null Count  Dtype  \n",
      "---  ------      --------------  -----  \n",
      " 0   region      12654 non-null  object \n",
      " 1   category    12654 non-null  object \n",
      " 2   parameter   12654 non-null  object \n",
      " 3   mode        12654 non-null  object \n",
      " 4   powertrain  12654 non-null  object \n",
      " 5   year        12654 non-null  int64  \n",
      " 6   unit        12654 non-null  object \n",
      " 7   value       12654 non-null  float64\n",
      "dtypes: float64(1), int64(1), object(6)\n",
      "memory usage: 791.0+ KB\n"
     ]
    }
   ],
   "source": [
    "#3 - apresentar informações básicas do dataset\n",
    "df.info()"
   ]
  },
  {
   "cell_type": "code",
   "execution_count": 163,
   "id": "bd2d51cf-7288-48eb-b002-1701b2c91124",
   "metadata": {},
   "outputs": [
    {
     "name": "stdout",
     "output_type": "stream",
     "text": [
      "8565\n"
     ]
    },
    {
     "data": {
      "text/plain": [
       "0"
      ]
     },
     "execution_count": 163,
     "metadata": {},
     "output_type": "execute_result"
    }
   ],
   "source": [
    "print(df.shape[0])#verificar quantidade de linhas totais na tabela\n",
    "df.isnull().sum()#verifica se tem linhas vazias e conta a quantidade\n",
    "df.duplicated().sum() # somas as linhas duplicadas da tabela"
   ]
  },
  {
   "cell_type": "code",
   "execution_count": 23,
   "id": "f6399bab-50f9-4878-b61d-cc5a61ef19fd",
   "metadata": {},
   "outputs": [
    {
     "data": {
      "text/plain": [
       "Index(['Região', 'Categoria', 'Parâmetro', 'Tipo', 'Trem de Força', 'Ano',\n",
       "       'Unidade', 'Valor'],\n",
       "      dtype='object')"
      ]
     },
     "execution_count": 23,
     "metadata": {},
     "output_type": "execute_result"
    }
   ],
   "source": [
    "df.columns\n",
    "df.columns = ['Região', 'Categoria', 'Parâmetro', 'Tipo','Trem de Força','Ano','Unidade','Valor']\n",
    "df.columns"
   ]
  },
  {
   "cell_type": "code",
   "execution_count": 157,
   "id": "8e7fbe1e-f536-4158-9351-df0d5b32e82d",
   "metadata": {},
   "outputs": [
    {
     "data": {
      "text/plain": [
       "array(['Vehicles', 'GWh', 'Milion barrels per day',\n",
       "       'Oil displacement, million lge'], dtype=object)"
      ]
     },
     "execution_count": 157,
     "metadata": {},
     "output_type": "execute_result"
    }
   ],
   "source": [
    "#visualizar os valores numa coluna\n",
    "df['Unidade'].unique()"
   ]
  },
  {
   "cell_type": "code",
   "execution_count": 139,
   "id": "9687ac79-4a4c-410a-929b-364d372f3853",
   "metadata": {},
   "outputs": [
    {
     "name": "stdout",
     "output_type": "stream",
     "text": [
      "<class 'pandas.core.frame.DataFrame'>\n",
      "Index: 8565 entries, 2 to 12635\n",
      "Data columns (total 8 columns):\n",
      " #   Column         Non-Null Count  Dtype  \n",
      "---  ------         --------------  -----  \n",
      " 0   Região         8565 non-null   object \n",
      " 1   Categoria      8565 non-null   object \n",
      " 2   Parâmetro      8565 non-null   object \n",
      " 3   Tipo           8565 non-null   object \n",
      " 4   Trem de Força  8565 non-null   object \n",
      " 5   Ano            8565 non-null   int64  \n",
      " 6   Unidade        8565 non-null   object \n",
      " 7   Valor          8565 non-null   float64\n",
      "dtypes: float64(1), int64(1), object(6)\n",
      "memory usage: 602.2+ KB\n"
     ]
    }
   ],
   "source": [
    "#TRADANDO OS DADOS PARA TRABALAHAR COM ELES\n",
    "\n",
    "#criando um dataframe para selecionar apenas veiculos\n",
    "df_vehicles = df.loc[df['Unidade'] == 'Vehicles']\n",
    "\n",
    "\n",
    "\n",
    "\n",
    "#excluindo valores\n",
    "\n",
    "# Textos específicos para remover\n",
    "textos_especificos = ['percent', 'charging points']\n",
    "\n",
    "# padrão de expressão regular para os textos específicos\n",
    "padrão = '|'.join(textos_especificos)\n",
    "#percent = 'percent'\n",
    "#charging_points = 'charging points'\n",
    "df_filtrado = df[~df['Unidade'].str.contains(padrão, case=False, na=False)]\n",
    "df_filtrado.head(80)\n",
    "df = df_filtrado\n",
    "df.info()\n",
    "#df_filtrado = df[~df['Unidade'].str.contains(charging_points, case=False, na=False)]\n",
    "#df_filtrado.head(80)"
   ]
  },
  {
   "cell_type": "code",
   "execution_count": 145,
   "id": "a1908a76-0f7a-4bb5-861d-365948cf3396",
   "metadata": {},
   "outputs": [
    {
     "name": "stdout",
     "output_type": "stream",
     "text": [
      "Tipo\n",
      "Buses     6.746413e+07\n",
      "Cars      4.708177e+09\n",
      "Trucks    9.868970e+07\n",
      "Vans      2.814518e+08\n",
      "Name: Valor, dtype: float64\n"
     ]
    }
   ],
   "source": [
    "#plotar um gráfico do tipo \"pie\" verificando a contagem de cada tipo de veículos (coluna mode).\n",
    "conta_tipo = df.groupby('Tipo')['Valor'].sum()\n",
    "#conta_tipo = df['Tipo'].value_counts()\n",
    "print (conta_tipo)"
   ]
  },
  {
   "cell_type": "code",
   "execution_count": null,
   "id": "bbed357c-3237-45ff-961d-cfff70b3d445",
   "metadata": {},
   "outputs": [],
   "source": []
  },
  {
   "cell_type": "code",
   "execution_count": 147,
   "id": "94b06155-fb11-4693-b8d3-c5217a26afc0",
   "metadata": {},
   "outputs": [
    {
     "data": {
      "image/png": "[encoded data removed]",
      "text/plain": [
       "<Figure size 640x480 with 1 Axes>"
      ]
     },
     "metadata": {},
     "output_type": "display_data"
    }
   ],
   "source": [
    "# gráfico de pizza\n",
    "plt.pie(conta_tipo, labels=conta_tipo.index, autopct='%1.1f%%', startangle=140)\n",
    "plt.title('Distribuição dos Tipos de Veículos')\n",
    "plt.show()"
   ]
  },
  {
   "cell_type": "code",
   "execution_count": 149,
   "id": "e1c5fb09-23fd-4951-a064-c525960ae0b3",
   "metadata": {},
   "outputs": [
    {
     "name": "stdout",
     "output_type": "stream",
     "text": [
      "Região\n",
      "World                   970\n",
      "Europe                  955\n",
      "China                   871\n",
      "Rest of the world       771\n",
      "USA                     552\n",
      "India                   501\n",
      "EU27                    285\n",
      "Netherlands             228\n",
      "France                  222\n",
      "United Kingdom          209\n",
      "Denmark                 193\n",
      "Germany                 192\n",
      "Belgium                 188\n",
      "Sweden                  163\n",
      "Norway                  159\n",
      "Switzerland             147\n",
      "Japan                   144\n",
      "Canada                  143\n",
      "Spain                   143\n",
      "Italy                   134\n",
      "Korea                   121\n",
      "Poland                  113\n",
      "Finland                 112\n",
      "New Zealand             111\n",
      "Portugal                104\n",
      "Brazil                  101\n",
      "Israel                   80\n",
      "Iceland                  70\n",
      "Austria                  65\n",
      "Australia                56\n",
      "Chile                    51\n",
      "South Africa             47\n",
      "Mexico                   44\n",
      "Turkiye                  41\n",
      "Greece                   40\n",
      "Costa Rica               18\n",
      "Latvia                   18\n",
      "Ireland                  18\n",
      "Hungary                  18\n",
      "Colombia                 18\n",
      "Bulgaria                 17\n",
      "Estonia                  16\n",
      "Slovenia                 16\n",
      "Czech Republic           15\n",
      "Slovakia                 14\n",
      "United Arab Emirates     12\n",
      "Lithuania                11\n",
      "Luxembourg               10\n",
      "Romania                  10\n",
      "Croatia                  10\n",
      "Seychelles                9\n",
      "Cyprus                    9\n",
      "Name: count, dtype: int64\n"
     ]
    }
   ],
   "source": [
    "conta_reg = df['Região'].value_counts()\n",
    "print (conta_reg)"
   ]
  },
  {
   "cell_type": "code",
   "execution_count": 151,
   "id": "d5dcdc38-fec1-4fda-af4f-82977cc97d94",
   "metadata": {},
   "outputs": [
    {
     "name": "stdout",
     "output_type": "stream",
     "text": [
      "               Região  Quantidade\n",
      "51              World         970\n",
      "16             Europe         955\n",
      "7               China         871\n",
      "38  Rest of the world         771\n",
      "48                USA         552\n",
      "23              India         501\n",
      "14               EU27         285\n",
      "33        Netherlands         228\n",
      "18             France         222\n",
      "50     United Kingdom         209\n"
     ]
    }
   ],
   "source": [
    "# número de veículos por região\n",
    "df_conta = df.groupby('Região').size().reset_index(name='Quantidade')\n",
    "\n",
    "\n",
    "df_ordena = df_conta.sort_values(by='Quantidade', ascending=False)\n",
    "\n",
    "# 10 principais regiões\n",
    "top_10 = df_ordena.head(10)\n",
    "print (top_10)"
   ]
  },
  {
   "cell_type": "code",
   "execution_count": 153,
   "id": "7eedf829-55c2-4998-80ae-599494c21e83",
   "metadata": {},
   "outputs": [
    {
     "data": {
      "image/png": "[encoded data removed]",
      "text/plain": [
       "<Figure size 640x480 with 1 Axes>"
      ]
     },
     "metadata": {},
     "output_type": "display_data"
    }
   ],
   "source": [
    "#gráfico de barras\n",
    "plt.barh(top_10['Região'], top_10['Quantidade'], color='skyblue')\n",
    "plt.xlabel('Número de Veículos')\n",
    "plt.ylabel('Região')\n",
    "plt.title('Top 10 Regiões com Maior Número de Veículos')\n",
    "plt.show()"
   ]
  }
 ],
 "metadata": {
  "kernelspec": {
   "display_name": "Python 3 (ipykernel)",
   "language": "python",
   "name": "python3"
  },
  "language_info": {
   "codemirror_mode": {
    "name": "ipython",
    "version": 3
   },
   "file_extension": ".py",
   "mimetype": "text/x-python",
   "name": "python",
   "nbconvert_exporter": "python",
   "pygments_lexer": "ipython3",
   "version": "3.12.4"
  }
 },
 "nbformat": 4,
 "nbformat_minor": 5
}
